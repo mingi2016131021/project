{
 "cells": [
  {
   "cell_type": "code",
   "execution_count": 3,
   "id": "7dbd6ccd-5f1e-415d-8b07-306cbc956892",
   "metadata": {},
   "outputs": [
    {
     "name": "stdout",
     "output_type": "stream",
     "text": [
      "원하는 아이템 설정:\n"
     ]
    },
    {
     "name": "stdin",
     "output_type": "stream",
     "text": [
      "채집 속도 옵션 포함 'o', 옵션 미포함 'x'를 입력:  o\n",
      "채집 속도 옵션의 최소 수치를 입력하세요:  8\n",
      "고고학 생활 스킬의 기본 보상 추가 획득률 옵션 포함 'o', 옵션 미포함 'x'를 입력:  o\n",
      "고고학 생활 스킬의 기본 보상 추가 획득률 옵션의 최소 수치를 입력하세요:  40\n",
      "희귀 재료 추가 획득률 옵션 포함 'o', 옵션 미포함 'x'를 입력:  o\n",
      "희귀 재료 추가 획득률 옵션의 최소 수치를 입력하세요:  35\n",
      "특수 획득 확률 옵션 포함 'o', 옵션 미포함 'x'를 입력:  x\n",
      "내구도 미차감 확률 옵션 포함 'o', 옵션 미포함 'x'를 입력:  o\n",
      "내구도 미차감 확률 옵션의 최소 수치를 입력하세요:  13\n",
      "미니게임 난이도 하락 옵션 포함 'o', 옵션 미포함 'x'를 입력:  o\n",
      "미니게임 난이도 하락 옵션의 최소 수치를 입력하세요:  2\n",
      "미니게임 보상 획득 확률 옵션 포함 'o', 옵션 미포함 'x'를 입력:  o\n",
      "미니게임 보상 획득 확률 옵션의 최소 수치를 입력하세요:  40\n",
      "땅파기 중 슈퍼 아머 옵션 포함 'o', 옵션 미포함 'x'를 입력:  x\n"
     ]
    },
    {
     "name": "stdout",
     "output_type": "stream",
     "text": [
      "원하는 아이템 설정을 만족하는 아이템의 확률: 3.37%\n"
     ]
    }
   ],
   "source": [
    "import numpy as np\n",
    "\n",
    "class CustomItem:\n",
    "    def __init__(self, options):\n",
    "        self.options = options\n",
    "\n",
    "    def generate_item(self):\n",
    "        item = {}\n",
    "        for option, (min_val, max_val) in self.options.items():\n",
    "            value = round(np.random.uniform(min_val, max_val), 2)\n",
    "            item[option] = value\n",
    "        \n",
    "        return item\n",
    "\n",
    "def calculate_probability(desired_options, desired_min_values, num_iterations):\n",
    "    count_meeting_criteria = 0\n",
    "    \n",
    "    for _ in range(num_iterations):\n",
    "        options = {\n",
    "            \"채집 속도\": (6.25, 12.50),\n",
    "            \"고고학 생활 스킬의 기본 보상 추가 획득률\": (25.00, 50.00),\n",
    "            \"희귀 재료 추가 획득률\": (25.00, 50.00),\n",
    "            \"특수 획득 확률\": (2.50, 5.00),\n",
    "            \"내구도 미차감 확률\": (12.50, 25.00),\n",
    "            \"미니게임 난이도 하락\": (1, 3),\n",
    "            \"미니게임 보상 획득 확률\": (25.00, 50.00),\n",
    "            \"땅파기 중 슈퍼 아머\": (100.00, 100.00)\n",
    "        }\n",
    "        \n",
    "        custom_item = CustomItem(options)\n",
    "        item = custom_item.generate_item()\n",
    "        \n",
    "        meets_criteria = True\n",
    "        for option, min_value in desired_min_values.items():\n",
    "            if option in desired_options and option in item:\n",
    "                if item[option] < min_value:\n",
    "                    meets_criteria = False\n",
    "                    break\n",
    "            elif option in desired_options:\n",
    "                meets_criteria = False\n",
    "                break\n",
    "        \n",
    "        if meets_criteria:\n",
    "            count_meeting_criteria += 1\n",
    "    \n",
    "    probability = count_meeting_criteria / num_iterations\n",
    "    return probability\n",
    "    \n",
    "def get_desired_options_and_min_values():\n",
    "    desired_options = {}\n",
    "    desired_min_values = {}\n",
    "    \n",
    "    for option in [\"채집 속도\", \"고고학 생활 스킬의 기본 보상 추가 획득률\", \"희귀 재료 추가 획득률\", \n",
    "                   \"특수 획득 확률\", \"내구도 미차감 확률\", \"미니게임 난이도 하락\", \n",
    "                   \"미니게임 보상 획득 확률\", \"땅파기 중 슈퍼 아머\"]:\n",
    "        choice = input(f\"{option} 옵션 포함 'o', 옵션 미포함 'x'를 입력: \").strip().lower()\n",
    "        \n",
    "        if choice not in ['o', 'x']:\n",
    "            print(\"잘못된 입력입니다. 'o' 또는 'x' 중 하나를 입력하세요.\")\n",
    "            exit()\n",
    "        \n",
    "        if choice == 'o':\n",
    "            min_value = float(input(f\"{option} 옵션의 최소 수치를 입력하세요: \"))\n",
    "            desired_options[option] = True\n",
    "            desired_min_values[option] = min_value\n",
    "        else:\n",
    "            desired_options[option] = False\n",
    "    \n",
    "    return desired_options, desired_min_values\n",
    "\n",
    "print(\"원하는 아이템 설정:\")\n",
    "desired_options, desired_min_values = get_desired_options_and_min_values()\n",
    "\n",
    "num_iterations = 100000\n",
    "probability = calculate_probability(desired_options, desired_min_values, num_iterations)\n",
    "\n",
    "print(f\"원하는 아이템 설정을 만족하는 아이템의 확률: {probability:.2%}\")\n"
   ]
  },
  {
   "cell_type": "code",
   "execution_count": null,
   "id": "a7d7d4e0-c5ce-4e20-9547-20f2e62d8066",
   "metadata": {},
   "outputs": [],
   "source": []
  }
 ],
 "metadata": {
  "kernelspec": {
   "display_name": "Python 3 (ipykernel)",
   "language": "python",
   "name": "python3"
  },
  "language_info": {
   "codemirror_mode": {
    "name": "ipython",
    "version": 3
   },
   "file_extension": ".py",
   "mimetype": "text/x-python",
   "name": "python",
   "nbconvert_exporter": "python",
   "pygments_lexer": "ipython3",
   "version": "3.11.7"
  }
 },
 "nbformat": 4,
 "nbformat_minor": 5
}
